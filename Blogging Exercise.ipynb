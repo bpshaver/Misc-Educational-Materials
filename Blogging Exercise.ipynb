{
 "cells": [
  {
   "cell_type": "markdown",
   "metadata": {},
   "source": [
    "<img src=\"http://imgur.com/1ZcRyrc.png\" style=\"float: left; margin: 20px; height: 55px\">\n",
    "\n",
    "# Sample Blogging Exercise\n",
    "\n",
    "_Author: Ben Shaver (DC)_\n",
    "---\n"
   ]
  },
  {
   "cell_type": "markdown",
   "metadata": {},
   "source": [
    "<a id=goals></a>\n",
    "\n",
    "##  Overview\n",
    "\n",
    "A great way to build your skills, portfolio, and online presence as a data scientist is to regularly play with new datasets and publish interesting observations you have made. Every Monday morning, you'll be examining a dataset of your choosing in order to practice this skill. Below are a series of questions to get you started. You may use this notebook as a template to complete the exercise every week.\n",
    "\n",
    "For this exercise, you are highly encouraged to use a 'fresh' dataset like one featured in [Data is Plural](https://tinyletter.com/data-is-plural/letters/).  \n",
    "\n",
    "## Required Objectives\n",
    "\n",
    "Every monday, slack the dataset you have chosen to Ben by 10 am. You are required to examine a different dataset every week.\n",
    "\n",
    "You are required to write 10 blog posts. At least 3(?) of them, and no more than 6(?) must explore interesting datasets.\n",
    "\n",
    "## Additional Resources\n",
    "\n",
    "[100 Interesting Datasets for Statisticians](http://rs.io/100-interesting-data-sets-for-statistics/)\n",
    "\n",
    "[Open Data Inception - 2600+ Open Data Portals Around the World](https://opendatainception.io/)\n",
    "\n",
    "[https://www.crowdflower.com/data-for-everyone/](Data For Everyone Library)\n",
    "\n",
    "[https://ourworldindata.org/](Our World in Data)\n",
    "\n",
    "[https://www.kaggle.com/annavictoria/ml-friendly-public-datasets/](ML Friendly Public Datasets)\n",
    "\n",
    "[Top Datasets on r/Datasets](https://www.reddit.com/r/datasets/top/?sort=top&t=all)\n",
    "\n",
    "\n"
   ]
  },
  {
   "cell_type": "code",
   "execution_count": 2,
   "metadata": {
    "collapsed": true
   },
   "outputs": [],
   "source": [
    "import matplotlib.pyplot as plt\n",
    "import numpy as np\n",
    "import pandas as pd\n",
    "import seaborn as sns\n",
    "\n",
    "%matplotlib inline\n",
    "%config InlineBackend.figure_format = 'retina'"
   ]
  },
  {
   "cell_type": "markdown",
   "metadata": {},
   "source": [
    "<a id='Data Cleaning'></a>\n",
    "## Data Cleaning\n",
    "\n",
    "---\n"
   ]
  },
  {
   "cell_type": "markdown",
   "metadata": {},
   "source": [
    "### Data Description\n",
    "\n",
    "Begin with a short description of your dataset. Where did you get it? (Provide a link.) What does it show?\n",
    "\n",
    "What are the observational units? What are the variables? (If your dataset has many variables, try and focus on just 5-10 for the purposes of this exercise.)\n",
    "\n",
    "Is your data tidy? Is each row an observation and each column a variable?"
   ]
  },
  {
   "cell_type": "code",
   "execution_count": null,
   "metadata": {
    "collapsed": true
   },
   "outputs": [],
   "source": [
    "# My data comes from the Open University Learning Analytics dataset. Specifically,\n",
    "# I'm using the Studentinfo table, which contains demographic data on students \n",
    "# who took courses remotely via tha Open University. \n",
    "\n",
    "# The observational units are students. Variables include which course the student\n",
    "# was taking, their age, geographic region, highest education attained, the number\n",
    "# of credits the student is currently enrolled in, and the final result of the\n",
    "# studentin that module. Some students may show up more than once if they are enrolled\n",
    "# in more than one module."
   ]
  },
  {
   "cell_type": "code",
   "execution_count": 4,
   "metadata": {
    "collapsed": true
   },
   "outputs": [],
   "source": [
    "df = pd.read_csv('assets/Studentinfo.csv')"
   ]
  },
  {
   "cell_type": "code",
   "execution_count": 7,
   "metadata": {},
   "outputs": [
    {
     "data": {
      "text/html": [
       "<div>\n",
       "<style>\n",
       "    .dataframe thead tr:only-child th {\n",
       "        text-align: right;\n",
       "    }\n",
       "\n",
       "    .dataframe thead th {\n",
       "        text-align: left;\n",
       "    }\n",
       "\n",
       "    .dataframe tbody tr th {\n",
       "        vertical-align: top;\n",
       "    }\n",
       "</style>\n",
       "<table border=\"1\" class=\"dataframe\">\n",
       "  <thead>\n",
       "    <tr style=\"text-align: right;\">\n",
       "      <th></th>\n",
       "      <th>code_module</th>\n",
       "      <th>code_presentation</th>\n",
       "      <th>id_student</th>\n",
       "      <th>gender</th>\n",
       "      <th>region</th>\n",
       "      <th>highest_education</th>\n",
       "      <th>imd_band</th>\n",
       "      <th>age_band</th>\n",
       "      <th>num_of_prev_attempts</th>\n",
       "      <th>studied_credits</th>\n",
       "      <th>disability</th>\n",
       "      <th>final_result</th>\n",
       "    </tr>\n",
       "  </thead>\n",
       "  <tbody>\n",
       "    <tr>\n",
       "      <th>0</th>\n",
       "      <td>AAA</td>\n",
       "      <td>2013J</td>\n",
       "      <td>11391</td>\n",
       "      <td>M</td>\n",
       "      <td>East Anglian Region</td>\n",
       "      <td>HE Qualification</td>\n",
       "      <td>90-100%</td>\n",
       "      <td>55&lt;=</td>\n",
       "      <td>0</td>\n",
       "      <td>240</td>\n",
       "      <td>N</td>\n",
       "      <td>Pass</td>\n",
       "    </tr>\n",
       "    <tr>\n",
       "      <th>1</th>\n",
       "      <td>AAA</td>\n",
       "      <td>2013J</td>\n",
       "      <td>28400</td>\n",
       "      <td>F</td>\n",
       "      <td>Scotland</td>\n",
       "      <td>HE Qualification</td>\n",
       "      <td>20-30%</td>\n",
       "      <td>35-55</td>\n",
       "      <td>0</td>\n",
       "      <td>60</td>\n",
       "      <td>N</td>\n",
       "      <td>Pass</td>\n",
       "    </tr>\n",
       "    <tr>\n",
       "      <th>2</th>\n",
       "      <td>AAA</td>\n",
       "      <td>2013J</td>\n",
       "      <td>30268</td>\n",
       "      <td>F</td>\n",
       "      <td>North Western Region</td>\n",
       "      <td>A Level or Equivalent</td>\n",
       "      <td>30-40%</td>\n",
       "      <td>35-55</td>\n",
       "      <td>0</td>\n",
       "      <td>60</td>\n",
       "      <td>Y</td>\n",
       "      <td>Withdrawn</td>\n",
       "    </tr>\n",
       "    <tr>\n",
       "      <th>3</th>\n",
       "      <td>AAA</td>\n",
       "      <td>2013J</td>\n",
       "      <td>31604</td>\n",
       "      <td>F</td>\n",
       "      <td>South East Region</td>\n",
       "      <td>A Level or Equivalent</td>\n",
       "      <td>50-60%</td>\n",
       "      <td>35-55</td>\n",
       "      <td>0</td>\n",
       "      <td>60</td>\n",
       "      <td>N</td>\n",
       "      <td>Pass</td>\n",
       "    </tr>\n",
       "    <tr>\n",
       "      <th>4</th>\n",
       "      <td>AAA</td>\n",
       "      <td>2013J</td>\n",
       "      <td>32885</td>\n",
       "      <td>F</td>\n",
       "      <td>West Midlands Region</td>\n",
       "      <td>Lower Than A Level</td>\n",
       "      <td>50-60%</td>\n",
       "      <td>0-35</td>\n",
       "      <td>0</td>\n",
       "      <td>60</td>\n",
       "      <td>N</td>\n",
       "      <td>Pass</td>\n",
       "    </tr>\n",
       "  </tbody>\n",
       "</table>\n",
       "</div>"
      ],
      "text/plain": [
       "  code_module code_presentation  id_student gender                region  \\\n",
       "0         AAA             2013J       11391      M   East Anglian Region   \n",
       "1         AAA             2013J       28400      F              Scotland   \n",
       "2         AAA             2013J       30268      F  North Western Region   \n",
       "3         AAA             2013J       31604      F     South East Region   \n",
       "4         AAA             2013J       32885      F  West Midlands Region   \n",
       "\n",
       "       highest_education imd_band age_band  num_of_prev_attempts  \\\n",
       "0       HE Qualification  90-100%     55<=                     0   \n",
       "1       HE Qualification   20-30%    35-55                     0   \n",
       "2  A Level or Equivalent   30-40%    35-55                     0   \n",
       "3  A Level or Equivalent   50-60%    35-55                     0   \n",
       "4     Lower Than A Level   50-60%     0-35                     0   \n",
       "\n",
       "   studied_credits disability final_result  \n",
       "0              240          N         Pass  \n",
       "1               60          N         Pass  \n",
       "2               60          Y    Withdrawn  \n",
       "3               60          N         Pass  \n",
       "4               60          N         Pass  "
      ]
     },
     "execution_count": 7,
     "metadata": {},
     "output_type": "execute_result"
    }
   ],
   "source": [
    "df.head()"
   ]
  },
  {
   "cell_type": "code",
   "execution_count": 5,
   "metadata": {},
   "outputs": [
    {
     "data": {
      "text/plain": [
       "(32593, 12)"
      ]
     },
     "execution_count": 5,
     "metadata": {},
     "output_type": "execute_result"
    }
   ],
   "source": [
    "df.shape"
   ]
  },
  {
   "cell_type": "markdown",
   "metadata": {},
   "source": [
    "### Data Types and Missing Values\n",
    "\n",
    "What data type is each column? Are they what you expect?\n",
    "\n",
    "Are there any null values? What about missing values or impossible values?\n",
    "\n",
    "(Don't go down too many rabbit holes here. In a real project, you'd want to check all the variables for outliers and make sure every column is the right data type. For this exercise, it is OK to ignore some variables that are giving you trouble if you feel you can make interesting observations using the other variables.)"
   ]
  },
  {
   "cell_type": "code",
   "execution_count": 6,
   "metadata": {},
   "outputs": [
    {
     "data": {
      "text/plain": [
       "code_module             object\n",
       "code_presentation       object\n",
       "id_student               int64\n",
       "gender                  object\n",
       "region                  object\n",
       "highest_education       object\n",
       "imd_band                object\n",
       "age_band                object\n",
       "num_of_prev_attempts     int64\n",
       "studied_credits          int64\n",
       "disability              object\n",
       "final_result            object\n",
       "dtype: object"
      ]
     },
     "execution_count": 6,
     "metadata": {},
     "output_type": "execute_result"
    }
   ],
   "source": [
    "df.dtypes\n",
    "\n",
    "# Basically, the data types are what I expect. Age is captured as a categorical\n",
    "# variable, so it is a string. Disability is also a string, although it could be\n",
    "# encoded as boolean instead."
   ]
  },
  {
   "cell_type": "code",
   "execution_count": 9,
   "metadata": {},
   "outputs": [
    {
     "data": {
      "text/plain": [
       "True"
      ]
     },
     "execution_count": 9,
     "metadata": {},
     "output_type": "execute_result"
    }
   ],
   "source": [
    "# There are null values in my dataset:\n",
    "df.isnull().sum().sum() > 0 "
   ]
  },
  {
   "cell_type": "code",
   "execution_count": 10,
   "metadata": {},
   "outputs": [
    {
     "data": {
      "text/plain": [
       "code_module                0\n",
       "code_presentation          0\n",
       "id_student                 0\n",
       "gender                     0\n",
       "region                     0\n",
       "highest_education          0\n",
       "imd_band                1111\n",
       "age_band                   0\n",
       "num_of_prev_attempts       0\n",
       "studied_credits            0\n",
       "disability                 0\n",
       "final_result               0\n",
       "dtype: int64"
      ]
     },
     "execution_count": 10,
     "metadata": {},
     "output_type": "execute_result"
    }
   ],
   "source": [
    "# They're all in the 'depravation band' column. This is convenient because\n",
    "# we can just ignore that one for now.\n",
    "df.isnull().sum()"
   ]
  },
  {
   "cell_type": "code",
   "execution_count": 12,
   "metadata": {},
   "outputs": [
    {
     "data": {
      "text/plain": [
       "num_of_prev_attempts     0\n",
       "studied_credits         30\n",
       "dtype: int64"
      ]
     },
     "execution_count": 12,
     "metadata": {},
     "output_type": "execute_result"
    }
   ],
   "source": [
    "df[['num_of_prev_attempts','studied_credits']].min()\n",
    "# Minimums of numerical columns look sensible:"
   ]
  },
  {
   "cell_type": "code",
   "execution_count": 13,
   "metadata": {},
   "outputs": [
    {
     "data": {
      "text/plain": [
       "num_of_prev_attempts      6\n",
       "studied_credits         655\n",
       "dtype: int64"
      ]
     },
     "execution_count": 13,
     "metadata": {},
     "output_type": "execute_result"
    }
   ],
   "source": [
    "df[['num_of_prev_attempts','studied_credits']].max()\n",
    "# The maximum value for enrolled credits looks a little high.\n",
    "# But this is an online university... Maybe a lot of students sign\n",
    "# up for more courses than they ever plan to complete?"
   ]
  },
  {
   "cell_type": "markdown",
   "metadata": {},
   "source": [
    "<a id='EDA'></a>\n",
    "## Exploratory Data Analysis\n",
    "\n",
    "---\n"
   ]
  },
  {
   "cell_type": "markdown",
   "metadata": {},
   "source": [
    "What exactly are you trying to figure out using this data? What is your population of interest?\n",
    "\n",
    "What are some questions you could ask of this data? Write down a few questions before you write another line of code."
   ]
  },
  {
   "cell_type": "code",
   "execution_count": null,
   "metadata": {
    "collapsed": true
   },
   "outputs": [],
   "source": [
    "# My population of interest are students of the Open University, a distance \n",
    "# learning institution in the UK. I'm trying to figure out what patterns in\n",
    "# student demographics are associated with module performance.\n",
    "\n",
    "# Some questions I could ask of this data:\n",
    "## Are students with higher educational attainment more likely to pass a module?\n",
    "## Are students with a disability less likely to enroll in a lot of modules at the same time?\n",
    "## Which region in the UK performs the best? Which has the oldest enrolled students?"
   ]
  },
  {
   "cell_type": "markdown",
   "metadata": {},
   "source": [
    "Of the questions you've brainstormed, which are the easiest to answer? Which are the hardest?\n",
    "\n",
    "What answers would surprise you? For which questions do you lack strong pre-existing opinions?"
   ]
  },
  {
   "cell_type": "code",
   "execution_count": null,
   "metadata": {
    "collapsed": true
   },
   "outputs": [],
   "source": [
    "# Since students either have a disability, or don't, it would be really easy to see\n",
    "# if the average number of courses a student with a disability has is less than the\n",
    "# average number for a student without a disability.\n",
    "\n",
    "# Since age is categorical in this dataset, it would require some munging in order to \n",
    "# figure out which region has the oldest students. I would have to decide what counts\n",
    "# as 'old,' maybe.\n",
    "\n",
    "# I would be surprised if students with higher educational attainment aren't more likely\n",
    "# to pass a module. I don't really know which region in the UK has students who are more\n",
    "# likely to pass. It would be interesting to find out."
   ]
  },
  {
   "cell_type": "markdown",
   "metadata": {},
   "source": [
    "<a id='Visualization'></a>\n",
    "## Visualization\n",
    "---\n"
   ]
  },
  {
   "cell_type": "code",
   "execution_count": null,
   "metadata": {
    "collapsed": true
   },
   "outputs": [],
   "source": []
  }
 ],
 "metadata": {
  "kernelspec": {
   "display_name": "Python 3",
   "language": "python",
   "name": "python3"
  },
  "language_info": {
   "codemirror_mode": {
    "name": "ipython",
    "version": 3
   },
   "file_extension": ".py",
   "mimetype": "text/x-python",
   "name": "python",
   "nbconvert_exporter": "python",
   "pygments_lexer": "ipython3",
   "version": "3.6.3"
  }
 },
 "nbformat": 4,
 "nbformat_minor": 2
}
